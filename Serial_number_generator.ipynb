{
  "nbformat": 4,
  "nbformat_minor": 0,
  "metadata": {
    "colab": {
      "name": "Serial number generator.ipynb",
      "provenance": [],
      "collapsed_sections": [],
      "authorship_tag": "ABX9TyMotFNbn4JrY7KSc0SG7qd9",
      "include_colab_link": true
    },
    "kernelspec": {
      "name": "python3",
      "display_name": "Python 3"
    }
  },
  "cells": [
    {
      "cell_type": "markdown",
      "metadata": {
        "id": "view-in-github",
        "colab_type": "text"
      },
      "source": [
        "<a href=\"https://colab.research.google.com/github/kaispace30098/SKU_mapper/blob/main/Serial_number_generator.ipynb\" target=\"_parent\"><img src=\"https://colab.research.google.com/assets/colab-badge.svg\" alt=\"Open In Colab\"/></a>"
      ]
    },
    {
      "cell_type": "markdown",
      "metadata": {
        "id": "LER8RMWG8Spp"
      },
      "source": [
        "# New PO: Serial number Generator  "
      ]
    },
    {
      "cell_type": "code",
      "metadata": {
        "id": "TEFNX53K5-OI",
        "cellView": "form"
      },
      "source": [
        "#@title  1.Call backend - Google Sheet\n",
        "\n",
        "\n",
        "from google.colab import auth\n",
        "auth.authenticate_user()\n",
        "import gspread\n",
        "import gspread_dataframe as gd\n",
        "from oauth2client.client import GoogleCredentials\n",
        "from gspread_dataframe import set_with_dataframe\n",
        "import numpy as np\n",
        "import datetime as dt\n",
        "from datetime import datetime\n",
        "import pytz\n",
        "import pandas as pd\n",
        "from google.colab import files\n",
        "\n",
        "def read_dir_file(case_f):  # case_f = 0 for uploading one File and case_f = 1 for uploading one Zipped Directory\n",
        "        #uploaded = files.upload()    # to upload a Full Directory, please Zip it first (use WinZip)\n",
        "        for fn in uploaded.keys():\n",
        "            name = fn  #.encode('utf-8')\n",
        "            #print('\\nfile after encode', name)\n",
        "            #name = io.BytesIO(uploaded[name])\n",
        "        if case_f == 0:    # case of uploading 'One File only'\n",
        "            print('\\n file name: ', name)\n",
        "            return name\n",
        "        else:   # case of uploading a directory and its subdirectories and files\n",
        "            zfile = zipfile.ZipFile(name, 'r')   # unzip the directory \n",
        "            zfile.extractall()\n",
        "            for d in zfile.namelist():   # d = directory\n",
        "                print('\\n main directory name: ', d)\n",
        "                return d\n",
        "\n",
        "gc = gspread.authorize(GoogleCredentials.get_application_default())\n",
        "wb= gc.open_by_url('https://docs.google.com/spreadsheets/d/1gUYtvLPslOD7XKBzJvNnFw28uSxFiPCwzrv4JYRV6HE/edit#gid=1520865025')\n",
        "\n",
        "\n",
        "sheet = wb.worksheet('PO')\n",
        "#sheet2 = wb.worksheet('All PO')\n",
        "data = sheet.get_all_values()\n",
        "df0=pd.DataFrame(data)\n",
        "df0.columns = df0.iloc[0]\n",
        "df0 = df0.iloc[1:]\n",
        "# using dictionary to convert specific columns  \n",
        "convert_dict = {'SN_min': int, 'SN_max': int\n",
        "               }  \n",
        "\n",
        "df0 = df0.astype(convert_dict)\n",
        "\n",
        "df0.index=df0.index-1"
      ],
      "execution_count": null,
      "outputs": []
    },
    {
      "cell_type": "code",
      "metadata": {
        "id": "szdH9K6lTziM",
        "colab": {
          "base_uri": "https://localhost:8080/",
          "height": 17
        },
        "cellView": "form",
        "outputId": "5812aeb8-5b38-437a-e622-22c6e0936367"
      },
      "source": [
        "\n",
        "#@title 2.Fill PO info and download the sheet for Order detail\n",
        "\n",
        "tz_AZ = pytz.timezone('US/Arizona') \n",
        "datetime_AZ = datetime.now(tz_AZ)\n",
        "current_time = datetime_AZ.strftime(\"%m/%d/%Y, %H:%M:%S\")\n",
        "#C1\n",
        "PO = \"3CCXJ49T\" #@param {type:\"string\"}\n",
        "Vendor = \"NINGBO CARELINE ELECTRIC APPLIANCE CO.,LT\" #@param {type:\"string\"}\n",
        "Purchase_Date = \"2022-01-17\" #@param {type:\"date\"}\n",
        "Expected_Date = \"2022-04-24\" #@param {type:\"date\"}\n",
        "##C2 DOWNLOAD the PO sheet\n",
        "df_temp=[]\n",
        "df_temp = pd.DataFrame (columns = ['SKU','Quantity'])\n",
        "df_temp.to_csv('purchase template.csv',index=False) \n",
        "files.download('purchase template.csv')\n",
        "#下載範例表單(由Google colab去call google sheet API)"
      ],
      "execution_count": null,
      "outputs": [
        {
          "output_type": "display_data",
          "data": {
            "application/javascript": [
              "\n",
              "    async function download(id, filename, size) {\n",
              "      if (!google.colab.kernel.accessAllowed) {\n",
              "        return;\n",
              "      }\n",
              "      const div = document.createElement('div');\n",
              "      const label = document.createElement('label');\n",
              "      label.textContent = `Downloading \"${filename}\": `;\n",
              "      div.appendChild(label);\n",
              "      const progress = document.createElement('progress');\n",
              "      progress.max = size;\n",
              "      div.appendChild(progress);\n",
              "      document.body.appendChild(div);\n",
              "\n",
              "      const buffers = [];\n",
              "      let downloaded = 0;\n",
              "\n",
              "      const channel = await google.colab.kernel.comms.open(id);\n",
              "      // Send a message to notify the kernel that we're ready.\n",
              "      channel.send({})\n",
              "\n",
              "      for await (const message of channel.messages) {\n",
              "        // Send a message to notify the kernel that we're ready.\n",
              "        channel.send({})\n",
              "        if (message.buffers) {\n",
              "          for (const buffer of message.buffers) {\n",
              "            buffers.push(buffer);\n",
              "            downloaded += buffer.byteLength;\n",
              "            progress.value = downloaded;\n",
              "          }\n",
              "        }\n",
              "      }\n",
              "      const blob = new Blob(buffers, {type: 'application/binary'});\n",
              "      const a = document.createElement('a');\n",
              "      a.href = window.URL.createObjectURL(blob);\n",
              "      a.download = filename;\n",
              "      div.appendChild(a);\n",
              "      a.click();\n",
              "      div.remove();\n",
              "    }\n",
              "  "
            ],
            "text/plain": [
              "<IPython.core.display.Javascript object>"
            ]
          },
          "metadata": {}
        },
        {
          "output_type": "display_data",
          "data": {
            "application/javascript": [
              "download(\"download_f7ff3529-ea16-47c6-915d-663de192f4bc\", \"purchase template.csv\", 13)"
            ],
            "text/plain": [
              "<IPython.core.display.Javascript object>"
            ]
          },
          "metadata": {}
        }
      ]
    },
    {
      "cell_type": "code",
      "metadata": {
        "id": "WVPUXK8WKEpB",
        "cellView": "form"
      },
      "source": [
        "#@title 3. Upload Order detail \n",
        "#C3 UPLOAD PO sheet\n",
        "uploaded = files.upload()\n",
        "fileName = read_dir_file(0)\n",
        "import io\n",
        "df_c= pd.read_csv(io.BytesIO(uploaded[fileName]))# Dataset is now stored in a Pandas Dataframe\n",
        "df_c['PO']=PO\n",
        "df_c['Vendor']=Vendor\n",
        "df_c['Expected_Date']=Expected_Date\n",
        "df_c['Purchased_Date']=Purchase_Date\n",
        "df_c['Last_Update_Date']=Purchase_Date\n",
        "df_c[\"SN_min\"]=\"\"\n",
        "df_c[\"SN_max\"]=\"\"\n",
        "df_c[\"Last_Update_Time\"]=current_time\n",
        "#-------------------------------------------------------------------------------------------------------------------------\n",
        "base = dt.datetime.today().date()\n",
        "todaybase=int(repr(base.year)[-2])*100000000000+int(repr(base.year)[-1])*10000000000+int(base.month)*100000000+int(base.day)*1000000\n",
        "#F\n",
        "x = range(1,df_c.shape[0])\n",
        "if todaybase > df0['SN_max'].max():\n",
        "  df_c['SN_min'][0]=todaybase+1\n",
        "  df_c['SN_max'][0]=df_c['SN_min'][0]+ df_c['Quantity'][0]-1\n",
        "  for n in x:\n",
        "    df_c['SN_min'][n]=df_c['SN_max'][n-1]+1\n",
        "    df_c['SN_max'][n]=df_c['SN_max'][n-1]+ df_c['Quantity'][n]\n",
        "else:\n",
        "  df_c['SN_min'][0]=df0['SN_max'].max()+1\n",
        "  df_c['SN_max'][0]=df_c['SN_min'][0]+df_c['Quantity'][0]-1\n",
        "  for n in x:\n",
        "    df_c['SN_min'][n]=df_c['SN_max'][n-1]+1\n",
        "    df_c['SN_max'][n]=df_c['SN_max'][n-1]+ df_c['Quantity'][n]\n",
        "frames = [df0, df_c]\n",
        "result = pd.concat(frames)\n",
        "gd.set_with_dataframe(sheet, result)\n",
        "\n",
        "#df_cc=df[........]\n",
        "#frame2=[df1,df_cc]\n",
        "#result2 = pd.concat(frames2)\n",
        "#gd.set_with_dataframe(sheet2, result)\n",
        "\n"
      ],
      "execution_count": null,
      "outputs": []
    },
    {
      "cell_type": "code",
      "metadata": {
        "id": "fsCeU9uiMG4K",
        "cellView": "form"
      },
      "source": [
        "#@title Query:serial number lookup\n",
        "\n",
        "Serial_number = 210205000001 #@param {type:\"number\"}\n",
        "\n",
        "for i in range(0, len(result)):\n",
        "    if Serial_number >= int(result.iloc[i]['SN_min'])and Serial_number <= int(result.iloc[i]['SN_max']):\n",
        "      print(result.iloc[i]['PO'])\n",
        "\n"
      ],
      "execution_count": null,
      "outputs": []
    }
  ]
}